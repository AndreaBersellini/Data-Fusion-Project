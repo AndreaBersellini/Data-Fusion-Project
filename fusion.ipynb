{
 "cells": [
  {
   "cell_type": "code",
   "execution_count": 1,
   "metadata": {},
   "outputs": [],
   "source": [
    "import os\n",
    "from PIL import Image\n",
    "import numpy as np\n",
    "import matplotlib.pyplot as plt\n",
    "from utils import *\n",
    "from kinect_image_conversion import *\n",
    "import cv2 as cv\n",
    "\n",
    "DETECT_PARAM = 300"
   ]
  },
  {
   "cell_type": "code",
   "execution_count": 2,
   "metadata": {},
   "outputs": [],
   "source": [
    "generateKinectDataset()"
   ]
  },
  {
   "cell_type": "code",
   "execution_count": 3,
   "metadata": {},
   "outputs": [
    {
     "name": "stdout",
     "output_type": "stream",
     "text": [
      "Press ENTER to accept the detection...\n",
      "Press ENTER to accept the detection...\n",
      "1.127659574468085\n"
     ]
    }
   ],
   "source": [
    "IMG_DIR = './Images'\n",
    "\n",
    "color_image = Image.open(IMG_DIR + \"/rgb_image_2.png\")\n",
    "depth_image = Image.open(IMG_DIR + \"/depth_image_2.png\").convert(\"L\")\n",
    "\n",
    "scale_factor = scaleCalibration(color_image, depth_image, DETECT_PARAM)"
   ]
  },
  {
   "cell_type": "code",
   "execution_count": 4,
   "metadata": {},
   "outputs": [],
   "source": [
    "# RESIZE ALL IMAGES AFTER EXTRINSIC CALIBRATION\n",
    "IMG_DIR = './Images'\n",
    "files_num = len([name for name in os.listdir(IMG_DIR) if os.path.isfile(os.path.join(IMG_DIR, name))])\n",
    "\n",
    "for i in range(files_num // 2):\n",
    "    path = IMG_DIR + \"/rgb_image_\" + str(i + 2) + \".png\"\n",
    "    rgb_image = cv.imread(path)\n",
    "\n",
    "    original_dimensions = (rgb_image.shape[1], rgb_image.shape[0])\n",
    "\n",
    "    new_width = int(rgb_image.shape[1] * scale_factor)\n",
    "    new_height = int(rgb_image.shape[0] * scale_factor)\n",
    "    new_dimensions = (new_width, new_height)\n",
    "\n",
    "    scaled_image = cv2.resize(rgb_image, new_dimensions, interpolation=cv2.INTER_CUBIC)\n",
    "\n",
    "    x_start = (new_width - original_dimensions[0]) // 2\n",
    "    y_start = (new_height - original_dimensions[1]) // 2\n",
    "    cropped_image = scaled_image[y_start:y_start + HEIGHT, x_start:x_start + WIDTH]\n",
    "\n",
    "    cv2.imwrite(path, cropped_image)\n",
    "\n",
    "IMG_DIR = './Images/Calibration'\n",
    "\n",
    "for i in range(2):\n",
    "    path = IMG_DIR + \"/rgb_image_\" + str(i) + \".png\"\n",
    "    rgb_image = cv.imread(path)\n",
    "\n",
    "    original_dimensions = (rgb_image.shape[1], rgb_image.shape[0])\n",
    "\n",
    "    new_width = int(rgb_image.shape[1] * scale_factor)\n",
    "    new_height = int(rgb_image.shape[0] * scale_factor)\n",
    "    new_dimensions = (new_width, new_height)\n",
    "\n",
    "    scaled_image = cv2.resize(rgb_image, new_dimensions, interpolation=cv2.INTER_CUBIC)\n",
    "\n",
    "    x_start = (new_width - original_dimensions[0]) // 2\n",
    "    y_start = (new_height - original_dimensions[1]) // 2\n",
    "    cropped_image = scaled_image[y_start:y_start + HEIGHT, x_start:x_start + WIDTH]\n",
    "\n",
    "    cv2.imwrite(path, cropped_image)\n"
   ]
  },
  {
   "cell_type": "code",
   "execution_count": 5,
   "metadata": {},
   "outputs": [
    {
     "name": "stdout",
     "output_type": "stream",
     "text": [
      "Press ENTER to accept the detection...\n",
      "Press ENTER to accept the detection...\n",
      "6.090909090909093 237.90909090909088\n"
     ]
    }
   ],
   "source": [
    "# INTRINSIC CALIBRATION PROCESS\n",
    "calibration = []\n",
    "\n",
    "for i in range(2):\n",
    "    with open(\"./Kinecet_Images_Measured/_measures.txt\", \"r\") as file:\n",
    "        for j, line in enumerate(file):\n",
    "            if j == i:\n",
    "                calib_distance = int(line.strip())\n",
    "    calib_data = (Image.open(\"Images/Calibration/rgb_image_\" + str(i) + \".png\"), Image.open(\"Images/Calibration/depth_image_\" + str(i) + \".png\").convert(\"L\"), calib_distance)\n",
    "    calibration.append(calib_data)\n",
    "\n",
    "int_calib = distanceCalibration(calibration[0][0], calibration[1][0], calibration[0][1], calibration[1][1], calibration[0][2], calibration[1][2], DETECT_PARAM)"
   ]
  },
  {
   "cell_type": "code",
   "execution_count": 8,
   "metadata": {},
   "outputs": [
    {
     "name": "stdout",
     "output_type": "stream",
     "text": [
      "Press ENTER to accept the detection...\n",
      "Object 2 is distant 116.09090909090908cm\n",
      "Press ENTER to accept the detection...\n",
      "Object 3 is distant 150.63636363636363cm\n",
      "Press ENTER to accept the detection...\n",
      "Object 4 is distant 136.09090909090907cm\n",
      "Press ENTER to accept the detection...\n",
      "Object 5 is distant 70.63636363636364cm\n",
      "Press ENTER to accept the detection...\n",
      "Object 6 is distant 105.18181818181817cm\n"
     ]
    }
   ],
   "source": [
    "from PIL import ImageDraw, ImageFont\n",
    "\n",
    "IMG_DIR = './Images'\n",
    "files_num = len([name for name in os.listdir(IMG_DIR) if os.path.isfile(os.path.join(IMG_DIR, name))])\n",
    "\n",
    "for i in range(files_num // 2):\n",
    "    color_image = Image.open(os.path.join(IMG_DIR, f\"rgb_image_{i + 2}.png\"))\n",
    "    depth_image = Image.open(os.path.join(IMG_DIR, f\"depth_image_{i + 2}.png\")).convert(\"L\")\n",
    "\n",
    "    x, y, _ = detectReference(color_image, DETECT_PARAM)\n",
    "    dist = calculateDistance(depth_image, (x, y), int_calib)\n",
    "\n",
    "    draw = ImageDraw.Draw(color_image)\n",
    "\n",
    "    label = f\"{dist:.1f} cm\"\n",
    "\n",
    "    point_radius = 5\n",
    "    draw.ellipse((x - point_radius, y - point_radius, x + point_radius, y + point_radius), fill=\"red\")\n",
    "\n",
    "    text_x, text_y = x + 10, y - 10\n",
    "\n",
    "    font = ImageFont.load_default()\n",
    "\n",
    "    draw.text((text_x, text_y), label, fill=\"yellow\", font=font)\n",
    "\n",
    "    output_path = os.path.join(\"Images/Results/\", f\"rgb_image_{i + 2}.png\")\n",
    "    color_image.save(output_path)\n",
    "\n",
    "    print(f\"Object {str(i + 2)} is distant {dist}cm\")\n"
   ]
  }
 ],
 "metadata": {
  "kernelspec": {
   "display_name": "base",
   "language": "python",
   "name": "python3"
  },
  "language_info": {
   "codemirror_mode": {
    "name": "ipython",
    "version": 3
   },
   "file_extension": ".py",
   "mimetype": "text/x-python",
   "name": "python",
   "nbconvert_exporter": "python",
   "pygments_lexer": "ipython3",
   "version": "3.12.3"
  }
 },
 "nbformat": 4,
 "nbformat_minor": 2
}
